{
 "cells": [
  {
   "cell_type": "code",
   "execution_count": null,
   "id": "3308f83b",
   "metadata": {},
   "outputs": [],
   "source": [
    "#read data\n",
    "#first import pandas\n",
    "#data=pandas.read_fileformat(file name along with path)\n",
    "\n",
    "#data.isnull().sum()   count total null values of every col   oupput -> col 1 no of nul val.........\n",
    "#data.notnull().sum()     count not null val\n",
    "\n",
    "#data.head(n=no of rows to read from start) by default it reads first 5 rows\n",
    "\n",
    "#data.tail() to read data from last\n",
    "\n",
    "#data.shape  to check data size {output ->  row,col}\n",
    "\n",
    "#data.column   to see col names\n",
    "\n",
    "#type(data)   to check data type\n",
    "\n"
   ]
  },
  {
   "cell_type": "code",
   "execution_count": null,
   "id": "d096176d",
   "metadata": {},
   "outputs": [],
   "source": [
    "#selection of data we have to function  LOC and iLoc\n",
    "\n",
    "#loc -> lable base selection    syntax  data.loc[(condition1) &(and)\\ !(or) (condition2),[col1,col2,..]]  by def it print al col\n",
    " #   condition->data.colname == \"selection\"\n",
    "\n",
    "#Iloc -> index base selection   syntax data.iloc[[row1,row2,..] or do slicing,[col1,col2,...] or do slicing]  {write col no. and ro no.} slicing col k: col n"
   ]
  },
  {
   "cell_type": "code",
   "execution_count": null,
   "id": "02052501",
   "metadata": {},
   "outputs": [],
   "source": [
    "#one hot encoding ..... part of data cleaning\n",
    "# replace null values \n",
    "# usually we replace null with the mean of a col having large no of null values\n",
    "\n",
    "# for this we use numpy\n",
    "# data.replace(to_replace=numpy.nan,value=  ,inplace=True)\n",
    "#     value=int(data[col].mean())"
   ]
  },
  {
   "cell_type": "code",
   "execution_count": null,
   "id": "f6517099",
   "metadata": {},
   "outputs": [],
   "source": []
  }
 ],
 "metadata": {
  "kernelspec": {
   "display_name": "Python 3",
   "language": "python",
   "name": "python3"
  },
  "language_info": {
   "codemirror_mode": {
    "name": "ipython",
    "version": 3
   },
   "file_extension": ".py",
   "mimetype": "text/x-python",
   "name": "python",
   "nbconvert_exporter": "python",
   "pygments_lexer": "ipython3",
   "version": "3.8.8"
  }
 },
 "nbformat": 4,
 "nbformat_minor": 5
}

{
 "cells": [
  {
   "cell_type": "code",
   "execution_count": 2,
   "id": "a8397a72",
   "metadata": {},
   "outputs": [
    {
     "name": "stdout",
     "output_type": "stream",
     "text": [
      "5\n"
     ]
    },
    {
     "data": {
      "text/plain": [
       "{3: 'g', 4: 'tt', 5: [8, 4]}"
      ]
     },
     "execution_count": 2,
     "metadata": {},
     "output_type": "execute_result"
    }
   ],
   "source": [
    "#pop()\n",
    "#popitem()   pora itm k+v  random val del krta h apni mrzi se usually last item ko krta h\n",
    "#for both dic and list\n",
    "#dic me key access dega then usko delte krde ga\n",
    "a={2:\"5\",3:\"g\",4:\"tt\",5:[6,8,4]}\n",
    "print(a.pop(2))\n",
    "a\n",
    "#for nested\n",
    "a[5].pop(0)\n",
    "a"
   ]
  },
  {
   "cell_type": "markdown",
   "id": "a29d9c9a",
   "metadata": {},
   "source": [
    "# function"
   ]
  },
  {
   "cell_type": "code",
   "execution_count": 3,
   "id": "d2472bd1",
   "metadata": {},
   "outputs": [
    {
     "name": "stdout",
     "output_type": "stream",
     "text": [
      "10\n"
     ]
    }
   ],
   "source": [
    "print(3+7)"
   ]
  },
  {
   "cell_type": "code",
   "execution_count": null,
   "id": "ad0a7e52",
   "metadata": {},
   "outputs": [],
   "source": [
    "#global(outside func) var has highr priority then local var(inside var)\n"
   ]
  }
 ],
 "metadata": {
  "kernelspec": {
   "display_name": "Python 3",
   "language": "python",
   "name": "python3"
  },
  "language_info": {
   "codemirror_mode": {
    "name": "ipython",
    "version": 3
   },
   "file_extension": ".py",
   "mimetype": "text/x-python",
   "name": "python",
   "nbconvert_exporter": "python",
   "pygments_lexer": "ipython3",
   "version": "3.8.8"
  }
 },
 "nbformat": 4,
 "nbformat_minor": 5
}

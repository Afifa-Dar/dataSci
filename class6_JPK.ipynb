{
 "cells": [
  {
   "cell_type": "code",
   "execution_count": 10,
   "id": "65299bea",
   "metadata": {},
   "outputs": [
    {
     "data": {
      "text/plain": [
       "[1, 3, 5, 7, 9]"
      ]
     },
     "execution_count": 10,
     "metadata": {},
     "output_type": "execute_result"
    }
   ],
   "source": [
    "\n",
    "l=[i for i in range(1,11) if i%2!=0]\n",
    "l"
   ]
  },
  {
   "cell_type": "code",
   "execution_count": 9,
   "id": "035c4a9b",
   "metadata": {},
   "outputs": [
    {
     "name": "stdout",
     "output_type": "stream",
     "text": [
      "1\n",
      "2\n",
      "3\n",
      "[1, 2, 3]\n"
     ]
    }
   ],
   "source": [
    "l=[int(input()) for i in range(3)]\n",
    "print(l)"
   ]
  },
  {
   "cell_type": "code",
   "execution_count": 11,
   "id": "661f5dae",
   "metadata": {},
   "outputs": [
    {
     "name": "stdout",
     "output_type": "stream",
     "text": [
      "1\n",
      "3\n",
      "5\n",
      "7\n",
      "9\n"
     ]
    }
   ],
   "source": [
    "for i in range(1,10,2):\n",
    "    print(i)"
   ]
  },
  {
   "cell_type": "code",
   "execution_count": 12,
   "id": "4ee1677f",
   "metadata": {},
   "outputs": [
    {
     "name": "stdout",
     "output_type": "stream",
     "text": [
      "1\n",
      "3\n",
      "5\n",
      "7\n",
      "9\n"
     ]
    }
   ],
   "source": [
    "for i in range(10):\n",
    "    if i%2!=0:\n",
    "        print(i)"
   ]
  },
  {
   "cell_type": "code",
   "execution_count": 13,
   "id": "379d8529",
   "metadata": {},
   "outputs": [
    {
     "name": "stdout",
     "output_type": "stream",
     "text": [
      "(1, 4)\n",
      "(2, 6)\n"
     ]
    }
   ],
   "source": [
    "a={1:4,2:6}\n",
    "for i in a.items():\n",
    "    print(i)"
   ]
  },
  {
   "cell_type": "markdown",
   "id": "0ff6b5df",
   "metadata": {},
   "source": [
    "# phone book directory\n",
    "INPUT: get total no of numbers tobe be added in phonebook directory, name & number"
   ]
  },
  {
   "cell_type": "code",
   "execution_count": 18,
   "id": "fbdc8f1d",
   "metadata": {},
   "outputs": [
    {
     "name": "stdout",
     "output_type": "stream",
     "text": [
      "total numbers that you want to add in phonebook: 4\n",
      "enter name:ali\n",
      "enter number: 0333224455\n",
      "enter name:sana\n",
      "enter number: 03123334455\n",
      "enter name:saffan\n",
      "enter number: 0335679876\n",
      "enter name:aqsa\n",
      "enter number: 02133445432\n",
      "\n",
      "\n",
      "***PHONEBOOK DIRECTORY***\n",
      "\n",
      "\n",
      "Ali : 0333224455\n",
      "Sana : 03123334455\n",
      "Saffan : 0335679876\n",
      "Aqsa : 02133445432\n"
     ]
    }
   ],
   "source": [
    "dic={}\n",
    "n=int(input(\"total numbers that you want to add in phonebook: \"))\n",
    "for i in range(n):\n",
    "    name=input(\"enter name:\")\n",
    "    num=input(\"enter number: \")\n",
    "    dic[name.title()]=num\n",
    "print(\"\\n\\n***PHONEBOOK DIRECTORY***\\n\\n\")\n",
    "for nm,no in dic.items():\n",
    "    print(nm ,\":\",no)\n",
    "    "
   ]
  },
  {
   "cell_type": "code",
   "execution_count": null,
   "id": "86fa8cfa",
   "metadata": {},
   "outputs": [],
   "source": []
  }
 ],
 "metadata": {
  "kernelspec": {
   "display_name": "Python 3",
   "language": "python",
   "name": "python3"
  },
  "language_info": {
   "codemirror_mode": {
    "name": "ipython",
    "version": 3
   },
   "file_extension": ".py",
   "mimetype": "text/x-python",
   "name": "python",
   "nbconvert_exporter": "python",
   "pygments_lexer": "ipython3",
   "version": "3.8.8"
  }
 },
 "nbformat": 4,
 "nbformat_minor": 5
}

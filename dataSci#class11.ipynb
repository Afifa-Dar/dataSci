{
 "cells": [
  {
   "cell_type": "code",
   "execution_count": 1,
   "id": "e2d00e27",
   "metadata": {},
   "outputs": [],
   "source": [
    "#web scrapping -> a techinique to get data"
   ]
  },
  {
   "cell_type": "code",
   "execution_count": 1,
   "id": "8c3230cc",
   "metadata": {},
   "outputs": [],
   "source": [
    "import requests"
   ]
  },
  {
   "cell_type": "code",
   "execution_count": 2,
   "id": "4cb6a1af",
   "metadata": {},
   "outputs": [
    {
     "data": {
      "text/plain": [
       "<Response [200]>"
      ]
     },
     "execution_count": 2,
     "metadata": {},
     "output_type": "execute_result"
    }
   ],
   "source": [
    "page=requests.get(\"https://afifa-dar.github.io/cv/\")        #to read page\n",
    "page       #response 200 mean k data get completely"
   ]
  },
  {
   "cell_type": "code",
   "execution_count": 6,
   "id": "38af4a2e",
   "metadata": {},
   "outputs": [
    {
     "ename": "TypeError",
     "evalue": "'bytes' object is not callable",
     "output_type": "error",
     "traceback": [
      "\u001b[1;31m---------------------------------------------------------------------------\u001b[0m",
      "\u001b[1;31mTypeError\u001b[0m                                 Traceback (most recent call last)",
      "\u001b[1;32m<ipython-input-6-53d2ade303b0>\u001b[0m in \u001b[0;36m<module>\u001b[1;34m\u001b[0m\n\u001b[1;32m----> 1\u001b[1;33m \u001b[0mpage\u001b[0m\u001b[1;33m.\u001b[0m\u001b[0mcontent\u001b[0m\u001b[1;33m(\u001b[0m\u001b[1;33m)\u001b[0m\u001b[1;33m\u001b[0m\u001b[1;33m\u001b[0m\u001b[0m\n\u001b[0m",
      "\u001b[1;31mTypeError\u001b[0m: 'bytes' object is not callable"
     ]
    }
   ],
   "source": [
    "page.content()"
   ]
  },
  {
   "cell_type": "code",
   "execution_count": 3,
   "id": "616c87a0",
   "metadata": {},
   "outputs": [
    {
     "data": {
      "text/plain": [
       "b'<!DOCTYPE html>\\n<html >\\n<head>\\n  <meta charset=\"utf-8\">\\n  <title>Afifa dar\\'s personal site</title>\\n<link rel=\"stylesheet\" href=\"css/styles.css\"/>\\n\\n</head>\\n<body >\\n  <table cellspacing=\"20\">\\n    <tr>\\n      <td> <img width=\"200\" height=\"200\" src=\"ad-modified.png\" alt=\"Afifa dar\\'s profile\"> </td>\\n<td> <h1>Afifa Dar</h1>\\n<p>\\n  <em>undergraduate student at  <strong><a href=\"https://www.neduet.edu.pk/\">NEDUET</a></strong>.</em></p>\\n  <p>I am student and love to spend my time in reading and writng.</p>\\n</td>\\n</tr>\\n  </table>\\n    <hr />\\n    <h3>Education</h3>\\n    <ul>\\n      <li>Juniper\\'s Academy.<a href=\"https://www.facebook.com/pages/category/Middle-School/Junipers-Academy-Secondary-School-325417377642383/\">  (FB page)</a></li>\\n      <li>St.Lawarence Govt Girls Degree College <a href=\"https://www.facebook.com/pages/category/Education/StLawrence-Govt-Girls-Degree-College-Karachi-302302486492501/\"> (FB page)</a></li>\\n      <li>NEDUET <a href=\"https://www.facebook.com/NEDUETOfficial/\"> (FB page)</a></li>\\n    </ul>\\n    <hr />\\n    <h3>Hobbies</h3>\\n    <ol>\\n      <li value=\"1\">reading novels</li>\\n      <li>watching drama</li>\\n      <li>listining poetry</li>\\n      <li>Voice Over<br><br> (one of those) <br> &nbsp;<video  controls width=\"100px\"><source src=\"my-video.mp4\"></video></li>\\n  </ol>\\n  <hr />\\n  <h3>EDUCATION DETAIL</h3>\\n  <table style=\"padding: 6px;\" cellspacing=\"10\"  >\\n    <thead>\\n      <tr>\\n           <th colspan=\"2\">EDUCATION</th>\\n       </tr>\\n      <tr>\\n        <td >YEARS</td>\\n        <td>DEGREE</td>\\n      </tr>\\n    </thead>\\n    <tbody>\\n      <tr>\\n        <td>2017</td>\\n        <td>matriculation</td>\\n      </tr>\\n      <tr>\\n        <td>2017-2019</td>\\n        <td>Intermediate</td>\\n      </tr>\\n      <tr>\\n        <td>2019-2023</td>\\n        <td>Bachelors</td>\\n      </tr>\\n    </tbody>\\n  </table>\\n  <hr />\\n  <h3>SKILLS</h3>\\n  <table style=\"padding: 7px;\" border=\"1\">\\n    <tr>\\n      <td>\\n    <table cellspacing=\"10\">\\n    <tr>\\n      <td>\\n        python\\n      </td>\\n      <td>\\n        \\xf0\\x9f\\x8c\\x9f\\xf0\\x9f\\x8c\\x9f\\xf0\\x9f\\x8c\\x9f\\xf0\\x9f\\x8c\\x9f\\xf0\\x9f\\x8c\\x9f\\n      </td>\\n    </tr>\\n    <tr>\\n      <td>\\n        C++\\n      </td>\\n      <td>\\n        \\xf0\\x9f\\x8c\\x9f\\xf0\\x9f\\x8c\\x9f\\xf0\\x9f\\x8c\\x9f\\xf0\\x9f\\x8c\\x9f\\n      </td>\\n    </tr>\\n    <tr>\\n      <td>\\n        UML\\n      </td>\\n      <td>\\n        \\xf0\\x9f\\x8c\\x9f\\xf0\\x9f\\x8c\\x9f\\xf0\\x9f\\x8c\\x9f\\n      </td>\\n    </tr>\\n\\n</table>\\n</td>\\n<td>\\n<table cellspacing=\"10\">\\n<tr>\\n<td>\\n  SQL\\n</td>\\n<td>\\n  \\xf0\\x9f\\x8c\\x9f\\xf0\\x9f\\x8c\\x9f\\xf0\\x9f\\x8c\\x9f\\n</td>\\n</tr>\\n<tr>\\n<td>\\n  C\\n</td>\\n<td>\\n  \\xf0\\x9f\\x8c\\x9f\\xf0\\x9f\\x8c\\x9f\\xf0\\x9f\\x8c\\x9f\\n</td>\\n</tr>\\n<tr>\\n<td>\\n  OOP\\n</td>\\n<td>\\n  \\xf0\\x9f\\x8c\\x9f\\xf0\\x9f\\x8c\\x9f\\xf0\\x9f\\x8c\\x9f\\xf0\\x9f\\x8c\\x9f\\n</td>\\n</tr>\\n</table>\\n</td>\\n</tr>\\n  </table>\\n  <hr />\\n  <a href=\"contact.html\">contact</a>\\n  <hr />\\n    </body>\\n</html>\\n'"
      ]
     },
     "execution_count": 3,
     "metadata": {},
     "output_type": "execute_result"
    }
   ],
   "source": [
    "page.content"
   ]
  },
  {
   "cell_type": "code",
   "execution_count": 4,
   "id": "14a0a5fe",
   "metadata": {},
   "outputs": [],
   "source": [
    "from bs4 import BeautifulSoup"
   ]
  },
  {
   "cell_type": "code",
   "execution_count": 5,
   "id": "653669ba",
   "metadata": {},
   "outputs": [
    {
     "data": {
      "text/plain": [
       "<!DOCTYPE html>\n",
       "<html>\n",
       "<head>\n",
       "<meta charset=\"utf-8\"/>\n",
       "<title>Afifa dar's personal site</title>\n",
       "<link href=\"css/styles.css\" rel=\"stylesheet\"/>\n",
       "</head>\n",
       "<body>\n",
       "<table cellspacing=\"20\">\n",
       "<tr>\n",
       "<td> <img alt=\"Afifa dar's profile\" height=\"200\" src=\"ad-modified.png\" width=\"200\"/> </td>\n",
       "<td> <h1>Afifa Dar</h1>\n",
       "<p>\n",
       "<em>undergraduate student at  <strong><a href=\"https://www.neduet.edu.pk/\">NEDUET</a></strong>.</em></p>\n",
       "<p>I am student and love to spend my time in reading and writng.</p>\n",
       "</td>\n",
       "</tr>\n",
       "</table>\n",
       "<hr/>\n",
       "<h3>Education</h3>\n",
       "<ul>\n",
       "<li>Juniper's Academy.<a href=\"https://www.facebook.com/pages/category/Middle-School/Junipers-Academy-Secondary-School-325417377642383/\">  (FB page)</a></li>\n",
       "<li>St.Lawarence Govt Girls Degree College <a href=\"https://www.facebook.com/pages/category/Education/StLawrence-Govt-Girls-Degree-College-Karachi-302302486492501/\"> (FB page)</a></li>\n",
       "<li>NEDUET <a href=\"https://www.facebook.com/NEDUETOfficial/\"> (FB page)</a></li>\n",
       "</ul>\n",
       "<hr/>\n",
       "<h3>Hobbies</h3>\n",
       "<ol>\n",
       "<li value=\"1\">reading novels</li>\n",
       "<li>watching drama</li>\n",
       "<li>listining poetry</li>\n",
       "<li>Voice Over<br/><br/> (one of those) <br/>  <video controls=\"\" width=\"100px\"><source src=\"my-video.mp4\"/></video></li>\n",
       "</ol>\n",
       "<hr/>\n",
       "<h3>EDUCATION DETAIL</h3>\n",
       "<table cellspacing=\"10\" style=\"padding: 6px;\">\n",
       "<thead>\n",
       "<tr>\n",
       "<th colspan=\"2\">EDUCATION</th>\n",
       "</tr>\n",
       "<tr>\n",
       "<td>YEARS</td>\n",
       "<td>DEGREE</td>\n",
       "</tr>\n",
       "</thead>\n",
       "<tbody>\n",
       "<tr>\n",
       "<td>2017</td>\n",
       "<td>matriculation</td>\n",
       "</tr>\n",
       "<tr>\n",
       "<td>2017-2019</td>\n",
       "<td>Intermediate</td>\n",
       "</tr>\n",
       "<tr>\n",
       "<td>2019-2023</td>\n",
       "<td>Bachelors</td>\n",
       "</tr>\n",
       "</tbody>\n",
       "</table>\n",
       "<hr/>\n",
       "<h3>SKILLS</h3>\n",
       "<table border=\"1\" style=\"padding: 7px;\">\n",
       "<tr>\n",
       "<td>\n",
       "<table cellspacing=\"10\">\n",
       "<tr>\n",
       "<td>\n",
       "        python\n",
       "      </td>\n",
       "<td>\n",
       "        🌟🌟🌟🌟🌟\n",
       "      </td>\n",
       "</tr>\n",
       "<tr>\n",
       "<td>\n",
       "        C++\n",
       "      </td>\n",
       "<td>\n",
       "        🌟🌟🌟🌟\n",
       "      </td>\n",
       "</tr>\n",
       "<tr>\n",
       "<td>\n",
       "        UML\n",
       "      </td>\n",
       "<td>\n",
       "        🌟🌟🌟\n",
       "      </td>\n",
       "</tr>\n",
       "</table>\n",
       "</td>\n",
       "<td>\n",
       "<table cellspacing=\"10\">\n",
       "<tr>\n",
       "<td>\n",
       "  SQL\n",
       "</td>\n",
       "<td>\n",
       "  🌟🌟🌟\n",
       "</td>\n",
       "</tr>\n",
       "<tr>\n",
       "<td>\n",
       "  C\n",
       "</td>\n",
       "<td>\n",
       "  🌟🌟🌟\n",
       "</td>\n",
       "</tr>\n",
       "<tr>\n",
       "<td>\n",
       "  OOP\n",
       "</td>\n",
       "<td>\n",
       "  🌟🌟🌟🌟\n",
       "</td>\n",
       "</tr>\n",
       "</table>\n",
       "</td>\n",
       "</tr>\n",
       "</table>\n",
       "<hr/>\n",
       "<a href=\"contact.html\">contact</a>\n",
       "<hr/>\n",
       "</body>\n",
       "</html>"
      ]
     },
     "execution_count": 5,
     "metadata": {},
     "output_type": "execute_result"
    }
   ],
   "source": [
    "sop=BeautifulSoup(page.content)\n",
    "sop"
   ]
  },
  {
   "cell_type": "code",
   "execution_count": 6,
   "id": "ac2941cb",
   "metadata": {},
   "outputs": [
    {
     "data": {
      "text/plain": [
       "<!DOCTYPE html>\n",
       "\n",
       "<html>\n",
       "<head>\n",
       "<meta charset=\"utf-8\"/>\n",
       "<title>Afifa dar's personal site</title>\n",
       "<link href=\"css/styles.css\" rel=\"stylesheet\"/>\n",
       "</head>\n",
       "<body>\n",
       "<table cellspacing=\"20\">\n",
       "<tr>\n",
       "<td> <img alt=\"Afifa dar's profile\" height=\"200\" src=\"ad-modified.png\" width=\"200\"/> </td>\n",
       "<td> <h1>Afifa Dar</h1>\n",
       "<p>\n",
       "<em>undergraduate student at  <strong><a href=\"https://www.neduet.edu.pk/\">NEDUET</a></strong>.</em></p>\n",
       "<p>I am student and love to spend my time in reading and writng.</p>\n",
       "</td>\n",
       "</tr>\n",
       "</table>\n",
       "<hr/>\n",
       "<h3>Education</h3>\n",
       "<ul>\n",
       "<li>Juniper's Academy.<a href=\"https://www.facebook.com/pages/category/Middle-School/Junipers-Academy-Secondary-School-325417377642383/\">  (FB page)</a></li>\n",
       "<li>St.Lawarence Govt Girls Degree College <a href=\"https://www.facebook.com/pages/category/Education/StLawrence-Govt-Girls-Degree-College-Karachi-302302486492501/\"> (FB page)</a></li>\n",
       "<li>NEDUET <a href=\"https://www.facebook.com/NEDUETOfficial/\"> (FB page)</a></li>\n",
       "</ul>\n",
       "<hr/>\n",
       "<h3>Hobbies</h3>\n",
       "<ol>\n",
       "<li value=\"1\">reading novels</li>\n",
       "<li>watching drama</li>\n",
       "<li>listining poetry</li>\n",
       "<li>Voice Over<br/><br/> (one of those) <br/>  <video controls=\"\" width=\"100px\"><source src=\"my-video.mp4\"/></video></li>\n",
       "</ol>\n",
       "<hr/>\n",
       "<h3>EDUCATION DETAIL</h3>\n",
       "<table cellspacing=\"10\" style=\"padding: 6px;\">\n",
       "<thead>\n",
       "<tr>\n",
       "<th colspan=\"2\">EDUCATION</th>\n",
       "</tr>\n",
       "<tr>\n",
       "<td>YEARS</td>\n",
       "<td>DEGREE</td>\n",
       "</tr>\n",
       "</thead>\n",
       "<tbody>\n",
       "<tr>\n",
       "<td>2017</td>\n",
       "<td>matriculation</td>\n",
       "</tr>\n",
       "<tr>\n",
       "<td>2017-2019</td>\n",
       "<td>Intermediate</td>\n",
       "</tr>\n",
       "<tr>\n",
       "<td>2019-2023</td>\n",
       "<td>Bachelors</td>\n",
       "</tr>\n",
       "</tbody>\n",
       "</table>\n",
       "<hr/>\n",
       "<h3>SKILLS</h3>\n",
       "<table border=\"1\" style=\"padding: 7px;\">\n",
       "<tr>\n",
       "<td>\n",
       "<table cellspacing=\"10\">\n",
       "<tr>\n",
       "<td>\n",
       "        python\n",
       "      </td>\n",
       "<td>\n",
       "        🌟🌟🌟🌟🌟\n",
       "      </td>\n",
       "</tr>\n",
       "<tr>\n",
       "<td>\n",
       "        C++\n",
       "      </td>\n",
       "<td>\n",
       "        🌟🌟🌟🌟\n",
       "      </td>\n",
       "</tr>\n",
       "<tr>\n",
       "<td>\n",
       "        UML\n",
       "      </td>\n",
       "<td>\n",
       "        🌟🌟🌟\n",
       "      </td>\n",
       "</tr>\n",
       "</table>\n",
       "</td>\n",
       "<td>\n",
       "<table cellspacing=\"10\">\n",
       "<tr>\n",
       "<td>\n",
       "  SQL\n",
       "</td>\n",
       "<td>\n",
       "  🌟🌟🌟\n",
       "</td>\n",
       "</tr>\n",
       "<tr>\n",
       "<td>\n",
       "  C\n",
       "</td>\n",
       "<td>\n",
       "  🌟🌟🌟\n",
       "</td>\n",
       "</tr>\n",
       "<tr>\n",
       "<td>\n",
       "  OOP\n",
       "</td>\n",
       "<td>\n",
       "  🌟🌟🌟🌟\n",
       "</td>\n",
       "</tr>\n",
       "</table>\n",
       "</td>\n",
       "</tr>\n",
       "</table>\n",
       "<hr/>\n",
       "<a href=\"contact.html\">contact</a>\n",
       "<hr/>\n",
       "</body>\n",
       "</html>"
      ]
     },
     "execution_count": 6,
     "metadata": {},
     "output_type": "execute_result"
    }
   ],
   "source": [
    "sop=BeautifulSoup(page.content,\"html.parser\")\n",
    "sop"
   ]
  },
  {
   "cell_type": "code",
   "execution_count": 7,
   "id": "19ba926a",
   "metadata": {},
   "outputs": [
    {
     "name": "stdout",
     "output_type": "stream",
     "text": [
      "<bound method Tag.prettify of <!DOCTYPE html>\n",
      "\n",
      "<html>\n",
      "<head>\n",
      "<meta charset=\"utf-8\"/>\n",
      "<title>Afifa dar's personal site</title>\n",
      "<link href=\"css/styles.css\" rel=\"stylesheet\"/>\n",
      "</head>\n",
      "<body>\n",
      "<table cellspacing=\"20\">\n",
      "<tr>\n",
      "<td> <img alt=\"Afifa dar's profile\" height=\"200\" src=\"ad-modified.png\" width=\"200\"/> </td>\n",
      "<td> <h1>Afifa Dar</h1>\n",
      "<p>\n",
      "<em>undergraduate student at  <strong><a href=\"https://www.neduet.edu.pk/\">NEDUET</a></strong>.</em></p>\n",
      "<p>I am student and love to spend my time in reading and writng.</p>\n",
      "</td>\n",
      "</tr>\n",
      "</table>\n",
      "<hr/>\n",
      "<h3>Education</h3>\n",
      "<ul>\n",
      "<li>Juniper's Academy.<a href=\"https://www.facebook.com/pages/category/Middle-School/Junipers-Academy-Secondary-School-325417377642383/\">  (FB page)</a></li>\n",
      "<li>St.Lawarence Govt Girls Degree College <a href=\"https://www.facebook.com/pages/category/Education/StLawrence-Govt-Girls-Degree-College-Karachi-302302486492501/\"> (FB page)</a></li>\n",
      "<li>NEDUET <a href=\"https://www.facebook.com/NEDUETOfficial/\"> (FB page)</a></li>\n",
      "</ul>\n",
      "<hr/>\n",
      "<h3>Hobbies</h3>\n",
      "<ol>\n",
      "<li value=\"1\">reading novels</li>\n",
      "<li>watching drama</li>\n",
      "<li>listining poetry</li>\n",
      "<li>Voice Over<br/><br/> (one of those) <br/>  <video controls=\"\" width=\"100px\"><source src=\"my-video.mp4\"/></video></li>\n",
      "</ol>\n",
      "<hr/>\n",
      "<h3>EDUCATION DETAIL</h3>\n",
      "<table cellspacing=\"10\" style=\"padding: 6px;\">\n",
      "<thead>\n",
      "<tr>\n",
      "<th colspan=\"2\">EDUCATION</th>\n",
      "</tr>\n",
      "<tr>\n",
      "<td>YEARS</td>\n",
      "<td>DEGREE</td>\n",
      "</tr>\n",
      "</thead>\n",
      "<tbody>\n",
      "<tr>\n",
      "<td>2017</td>\n",
      "<td>matriculation</td>\n",
      "</tr>\n",
      "<tr>\n",
      "<td>2017-2019</td>\n",
      "<td>Intermediate</td>\n",
      "</tr>\n",
      "<tr>\n",
      "<td>2019-2023</td>\n",
      "<td>Bachelors</td>\n",
      "</tr>\n",
      "</tbody>\n",
      "</table>\n",
      "<hr/>\n",
      "<h3>SKILLS</h3>\n",
      "<table border=\"1\" style=\"padding: 7px;\">\n",
      "<tr>\n",
      "<td>\n",
      "<table cellspacing=\"10\">\n",
      "<tr>\n",
      "<td>\n",
      "        python\n",
      "      </td>\n",
      "<td>\n",
      "        🌟🌟🌟🌟🌟\n",
      "      </td>\n",
      "</tr>\n",
      "<tr>\n",
      "<td>\n",
      "        C++\n",
      "      </td>\n",
      "<td>\n",
      "        🌟🌟🌟🌟\n",
      "      </td>\n",
      "</tr>\n",
      "<tr>\n",
      "<td>\n",
      "        UML\n",
      "      </td>\n",
      "<td>\n",
      "        🌟🌟🌟\n",
      "      </td>\n",
      "</tr>\n",
      "</table>\n",
      "</td>\n",
      "<td>\n",
      "<table cellspacing=\"10\">\n",
      "<tr>\n",
      "<td>\n",
      "  SQL\n",
      "</td>\n",
      "<td>\n",
      "  🌟🌟🌟\n",
      "</td>\n",
      "</tr>\n",
      "<tr>\n",
      "<td>\n",
      "  C\n",
      "</td>\n",
      "<td>\n",
      "  🌟🌟🌟\n",
      "</td>\n",
      "</tr>\n",
      "<tr>\n",
      "<td>\n",
      "  OOP\n",
      "</td>\n",
      "<td>\n",
      "  🌟🌟🌟🌟\n",
      "</td>\n",
      "</tr>\n",
      "</table>\n",
      "</td>\n",
      "</tr>\n",
      "</table>\n",
      "<hr/>\n",
      "<a href=\"contact.html\">contact</a>\n",
      "<hr/>\n",
      "</body>\n",
      "</html>\n",
      ">\n"
     ]
    }
   ],
   "source": [
    "print(sop.prettify)"
   ]
  },
  {
   "cell_type": "code",
   "execution_count": 8,
   "id": "ef01e093",
   "metadata": {},
   "outputs": [
    {
     "data": {
      "text/plain": [
       "<list_iterator at 0x123e5b7fac0>"
      ]
     },
     "execution_count": 8,
     "metadata": {},
     "output_type": "execute_result"
    }
   ],
   "source": [
    "sop.children"
   ]
  },
  {
   "cell_type": "code",
   "execution_count": 9,
   "id": "fd9d25cb",
   "metadata": {},
   "outputs": [
    {
     "name": "stdout",
     "output_type": "stream",
     "text": [
      "<list_iterator object at 0x00000123E5B7FBB0>\n"
     ]
    }
   ],
   "source": [
    "print(sop.children)"
   ]
  },
  {
   "cell_type": "code",
   "execution_count": 10,
   "id": "ae143bd0",
   "metadata": {},
   "outputs": [
    {
     "data": {
      "text/plain": [
       "['html',\n",
       " '\\n',\n",
       " <html>\n",
       " <head>\n",
       " <meta charset=\"utf-8\"/>\n",
       " <title>Afifa dar's personal site</title>\n",
       " <link href=\"css/styles.css\" rel=\"stylesheet\"/>\n",
       " </head>\n",
       " <body>\n",
       " <table cellspacing=\"20\">\n",
       " <tr>\n",
       " <td> <img alt=\"Afifa dar's profile\" height=\"200\" src=\"ad-modified.png\" width=\"200\"/> </td>\n",
       " <td> <h1>Afifa Dar</h1>\n",
       " <p>\n",
       " <em>undergraduate student at  <strong><a href=\"https://www.neduet.edu.pk/\">NEDUET</a></strong>.</em></p>\n",
       " <p>I am student and love to spend my time in reading and writng.</p>\n",
       " </td>\n",
       " </tr>\n",
       " </table>\n",
       " <hr/>\n",
       " <h3>Education</h3>\n",
       " <ul>\n",
       " <li>Juniper's Academy.<a href=\"https://www.facebook.com/pages/category/Middle-School/Junipers-Academy-Secondary-School-325417377642383/\">  (FB page)</a></li>\n",
       " <li>St.Lawarence Govt Girls Degree College <a href=\"https://www.facebook.com/pages/category/Education/StLawrence-Govt-Girls-Degree-College-Karachi-302302486492501/\"> (FB page)</a></li>\n",
       " <li>NEDUET <a href=\"https://www.facebook.com/NEDUETOfficial/\"> (FB page)</a></li>\n",
       " </ul>\n",
       " <hr/>\n",
       " <h3>Hobbies</h3>\n",
       " <ol>\n",
       " <li value=\"1\">reading novels</li>\n",
       " <li>watching drama</li>\n",
       " <li>listining poetry</li>\n",
       " <li>Voice Over<br/><br/> (one of those) <br/>  <video controls=\"\" width=\"100px\"><source src=\"my-video.mp4\"/></video></li>\n",
       " </ol>\n",
       " <hr/>\n",
       " <h3>EDUCATION DETAIL</h3>\n",
       " <table cellspacing=\"10\" style=\"padding: 6px;\">\n",
       " <thead>\n",
       " <tr>\n",
       " <th colspan=\"2\">EDUCATION</th>\n",
       " </tr>\n",
       " <tr>\n",
       " <td>YEARS</td>\n",
       " <td>DEGREE</td>\n",
       " </tr>\n",
       " </thead>\n",
       " <tbody>\n",
       " <tr>\n",
       " <td>2017</td>\n",
       " <td>matriculation</td>\n",
       " </tr>\n",
       " <tr>\n",
       " <td>2017-2019</td>\n",
       " <td>Intermediate</td>\n",
       " </tr>\n",
       " <tr>\n",
       " <td>2019-2023</td>\n",
       " <td>Bachelors</td>\n",
       " </tr>\n",
       " </tbody>\n",
       " </table>\n",
       " <hr/>\n",
       " <h3>SKILLS</h3>\n",
       " <table border=\"1\" style=\"padding: 7px;\">\n",
       " <tr>\n",
       " <td>\n",
       " <table cellspacing=\"10\">\n",
       " <tr>\n",
       " <td>\n",
       "         python\n",
       "       </td>\n",
       " <td>\n",
       "         🌟🌟🌟🌟🌟\n",
       "       </td>\n",
       " </tr>\n",
       " <tr>\n",
       " <td>\n",
       "         C++\n",
       "       </td>\n",
       " <td>\n",
       "         🌟🌟🌟🌟\n",
       "       </td>\n",
       " </tr>\n",
       " <tr>\n",
       " <td>\n",
       "         UML\n",
       "       </td>\n",
       " <td>\n",
       "         🌟🌟🌟\n",
       "       </td>\n",
       " </tr>\n",
       " </table>\n",
       " </td>\n",
       " <td>\n",
       " <table cellspacing=\"10\">\n",
       " <tr>\n",
       " <td>\n",
       "   SQL\n",
       " </td>\n",
       " <td>\n",
       "   🌟🌟🌟\n",
       " </td>\n",
       " </tr>\n",
       " <tr>\n",
       " <td>\n",
       "   C\n",
       " </td>\n",
       " <td>\n",
       "   🌟🌟🌟\n",
       " </td>\n",
       " </tr>\n",
       " <tr>\n",
       " <td>\n",
       "   OOP\n",
       " </td>\n",
       " <td>\n",
       "   🌟🌟🌟🌟\n",
       " </td>\n",
       " </tr>\n",
       " </table>\n",
       " </td>\n",
       " </tr>\n",
       " </table>\n",
       " <hr/>\n",
       " <a href=\"contact.html\">contact</a>\n",
       " <hr/>\n",
       " </body>\n",
       " </html>,\n",
       " '\\n']"
      ]
     },
     "execution_count": 10,
     "metadata": {},
     "output_type": "execute_result"
    }
   ],
   "source": [
    "list(sop.children)"
   ]
  },
  {
   "cell_type": "code",
   "execution_count": 11,
   "id": "25f253c6",
   "metadata": {},
   "outputs": [
    {
     "data": {
      "text/plain": [
       "[bs4.element.Doctype,\n",
       " bs4.element.NavigableString,\n",
       " bs4.element.Tag,\n",
       " bs4.element.NavigableString]"
      ]
     },
     "execution_count": 11,
     "metadata": {},
     "output_type": "execute_result"
    }
   ],
   "source": [
    "[type(item)for item in list(sop.children)]   #\"doctype.html\"=doctype \"\\n\"=NavigableString  \"<html>,<head>,...\"=Tag"
   ]
  },
  {
   "cell_type": "code",
   "execution_count": 12,
   "id": "ebde490a",
   "metadata": {},
   "outputs": [
    {
     "data": {
      "text/plain": [
       "['\\n',\n",
       " <head>\n",
       " <meta charset=\"utf-8\"/>\n",
       " <title>Afifa dar's personal site</title>\n",
       " <link href=\"css/styles.css\" rel=\"stylesheet\"/>\n",
       " </head>,\n",
       " '\\n',\n",
       " <body>\n",
       " <table cellspacing=\"20\">\n",
       " <tr>\n",
       " <td> <img alt=\"Afifa dar's profile\" height=\"200\" src=\"ad-modified.png\" width=\"200\"/> </td>\n",
       " <td> <h1>Afifa Dar</h1>\n",
       " <p>\n",
       " <em>undergraduate student at  <strong><a href=\"https://www.neduet.edu.pk/\">NEDUET</a></strong>.</em></p>\n",
       " <p>I am student and love to spend my time in reading and writng.</p>\n",
       " </td>\n",
       " </tr>\n",
       " </table>\n",
       " <hr/>\n",
       " <h3>Education</h3>\n",
       " <ul>\n",
       " <li>Juniper's Academy.<a href=\"https://www.facebook.com/pages/category/Middle-School/Junipers-Academy-Secondary-School-325417377642383/\">  (FB page)</a></li>\n",
       " <li>St.Lawarence Govt Girls Degree College <a href=\"https://www.facebook.com/pages/category/Education/StLawrence-Govt-Girls-Degree-College-Karachi-302302486492501/\"> (FB page)</a></li>\n",
       " <li>NEDUET <a href=\"https://www.facebook.com/NEDUETOfficial/\"> (FB page)</a></li>\n",
       " </ul>\n",
       " <hr/>\n",
       " <h3>Hobbies</h3>\n",
       " <ol>\n",
       " <li value=\"1\">reading novels</li>\n",
       " <li>watching drama</li>\n",
       " <li>listining poetry</li>\n",
       " <li>Voice Over<br/><br/> (one of those) <br/>  <video controls=\"\" width=\"100px\"><source src=\"my-video.mp4\"/></video></li>\n",
       " </ol>\n",
       " <hr/>\n",
       " <h3>EDUCATION DETAIL</h3>\n",
       " <table cellspacing=\"10\" style=\"padding: 6px;\">\n",
       " <thead>\n",
       " <tr>\n",
       " <th colspan=\"2\">EDUCATION</th>\n",
       " </tr>\n",
       " <tr>\n",
       " <td>YEARS</td>\n",
       " <td>DEGREE</td>\n",
       " </tr>\n",
       " </thead>\n",
       " <tbody>\n",
       " <tr>\n",
       " <td>2017</td>\n",
       " <td>matriculation</td>\n",
       " </tr>\n",
       " <tr>\n",
       " <td>2017-2019</td>\n",
       " <td>Intermediate</td>\n",
       " </tr>\n",
       " <tr>\n",
       " <td>2019-2023</td>\n",
       " <td>Bachelors</td>\n",
       " </tr>\n",
       " </tbody>\n",
       " </table>\n",
       " <hr/>\n",
       " <h3>SKILLS</h3>\n",
       " <table border=\"1\" style=\"padding: 7px;\">\n",
       " <tr>\n",
       " <td>\n",
       " <table cellspacing=\"10\">\n",
       " <tr>\n",
       " <td>\n",
       "         python\n",
       "       </td>\n",
       " <td>\n",
       "         🌟🌟🌟🌟🌟\n",
       "       </td>\n",
       " </tr>\n",
       " <tr>\n",
       " <td>\n",
       "         C++\n",
       "       </td>\n",
       " <td>\n",
       "         🌟🌟🌟🌟\n",
       "       </td>\n",
       " </tr>\n",
       " <tr>\n",
       " <td>\n",
       "         UML\n",
       "       </td>\n",
       " <td>\n",
       "         🌟🌟🌟\n",
       "       </td>\n",
       " </tr>\n",
       " </table>\n",
       " </td>\n",
       " <td>\n",
       " <table cellspacing=\"10\">\n",
       " <tr>\n",
       " <td>\n",
       "   SQL\n",
       " </td>\n",
       " <td>\n",
       "   🌟🌟🌟\n",
       " </td>\n",
       " </tr>\n",
       " <tr>\n",
       " <td>\n",
       "   C\n",
       " </td>\n",
       " <td>\n",
       "   🌟🌟🌟\n",
       " </td>\n",
       " </tr>\n",
       " <tr>\n",
       " <td>\n",
       "   OOP\n",
       " </td>\n",
       " <td>\n",
       "   🌟🌟🌟🌟\n",
       " </td>\n",
       " </tr>\n",
       " </table>\n",
       " </td>\n",
       " </tr>\n",
       " </table>\n",
       " <hr/>\n",
       " <a href=\"contact.html\">contact</a>\n",
       " <hr/>\n",
       " </body>,\n",
       " '\\n']"
      ]
     },
     "execution_count": 12,
     "metadata": {},
     "output_type": "execute_result"
    }
   ],
   "source": [
    "#to see html children\n",
    "html=list(sop.children)[2]\n",
    "list(html.children)"
   ]
  },
  {
   "cell_type": "code",
   "execution_count": 13,
   "id": "d0d0504e",
   "metadata": {},
   "outputs": [
    {
     "data": {
      "text/plain": [
       "['\\n',\n",
       " <meta charset=\"utf-8\"/>,\n",
       " '\\n',\n",
       " <title>Afifa dar's personal site</title>,\n",
       " '\\n',\n",
       " <link href=\"css/styles.css\" rel=\"stylesheet\"/>,\n",
       " '\\n']"
      ]
     },
     "execution_count": 13,
     "metadata": {},
     "output_type": "execute_result"
    }
   ],
   "source": [
    "#to see head children\n",
    "head=list(html.children)[1]\n",
    "list(head.children)"
   ]
  },
  {
   "cell_type": "code",
   "execution_count": 14,
   "id": "5272786f",
   "metadata": {},
   "outputs": [
    {
     "data": {
      "text/plain": [
       "['\\n',\n",
       " <table cellspacing=\"20\">\n",
       " <tr>\n",
       " <td> <img alt=\"Afifa dar's profile\" height=\"200\" src=\"ad-modified.png\" width=\"200\"/> </td>\n",
       " <td> <h1>Afifa Dar</h1>\n",
       " <p>\n",
       " <em>undergraduate student at  <strong><a href=\"https://www.neduet.edu.pk/\">NEDUET</a></strong>.</em></p>\n",
       " <p>I am student and love to spend my time in reading and writng.</p>\n",
       " </td>\n",
       " </tr>\n",
       " </table>,\n",
       " '\\n',\n",
       " <hr/>,\n",
       " '\\n',\n",
       " <h3>Education</h3>,\n",
       " '\\n',\n",
       " <ul>\n",
       " <li>Juniper's Academy.<a href=\"https://www.facebook.com/pages/category/Middle-School/Junipers-Academy-Secondary-School-325417377642383/\">  (FB page)</a></li>\n",
       " <li>St.Lawarence Govt Girls Degree College <a href=\"https://www.facebook.com/pages/category/Education/StLawrence-Govt-Girls-Degree-College-Karachi-302302486492501/\"> (FB page)</a></li>\n",
       " <li>NEDUET <a href=\"https://www.facebook.com/NEDUETOfficial/\"> (FB page)</a></li>\n",
       " </ul>,\n",
       " '\\n',\n",
       " <hr/>,\n",
       " '\\n',\n",
       " <h3>Hobbies</h3>,\n",
       " '\\n',\n",
       " <ol>\n",
       " <li value=\"1\">reading novels</li>\n",
       " <li>watching drama</li>\n",
       " <li>listining poetry</li>\n",
       " <li>Voice Over<br/><br/> (one of those) <br/>  <video controls=\"\" width=\"100px\"><source src=\"my-video.mp4\"/></video></li>\n",
       " </ol>,\n",
       " '\\n',\n",
       " <hr/>,\n",
       " '\\n',\n",
       " <h3>EDUCATION DETAIL</h3>,\n",
       " '\\n',\n",
       " <table cellspacing=\"10\" style=\"padding: 6px;\">\n",
       " <thead>\n",
       " <tr>\n",
       " <th colspan=\"2\">EDUCATION</th>\n",
       " </tr>\n",
       " <tr>\n",
       " <td>YEARS</td>\n",
       " <td>DEGREE</td>\n",
       " </tr>\n",
       " </thead>\n",
       " <tbody>\n",
       " <tr>\n",
       " <td>2017</td>\n",
       " <td>matriculation</td>\n",
       " </tr>\n",
       " <tr>\n",
       " <td>2017-2019</td>\n",
       " <td>Intermediate</td>\n",
       " </tr>\n",
       " <tr>\n",
       " <td>2019-2023</td>\n",
       " <td>Bachelors</td>\n",
       " </tr>\n",
       " </tbody>\n",
       " </table>,\n",
       " '\\n',\n",
       " <hr/>,\n",
       " '\\n',\n",
       " <h3>SKILLS</h3>,\n",
       " '\\n',\n",
       " <table border=\"1\" style=\"padding: 7px;\">\n",
       " <tr>\n",
       " <td>\n",
       " <table cellspacing=\"10\">\n",
       " <tr>\n",
       " <td>\n",
       "         python\n",
       "       </td>\n",
       " <td>\n",
       "         🌟🌟🌟🌟🌟\n",
       "       </td>\n",
       " </tr>\n",
       " <tr>\n",
       " <td>\n",
       "         C++\n",
       "       </td>\n",
       " <td>\n",
       "         🌟🌟🌟🌟\n",
       "       </td>\n",
       " </tr>\n",
       " <tr>\n",
       " <td>\n",
       "         UML\n",
       "       </td>\n",
       " <td>\n",
       "         🌟🌟🌟\n",
       "       </td>\n",
       " </tr>\n",
       " </table>\n",
       " </td>\n",
       " <td>\n",
       " <table cellspacing=\"10\">\n",
       " <tr>\n",
       " <td>\n",
       "   SQL\n",
       " </td>\n",
       " <td>\n",
       "   🌟🌟🌟\n",
       " </td>\n",
       " </tr>\n",
       " <tr>\n",
       " <td>\n",
       "   C\n",
       " </td>\n",
       " <td>\n",
       "   🌟🌟🌟\n",
       " </td>\n",
       " </tr>\n",
       " <tr>\n",
       " <td>\n",
       "   OOP\n",
       " </td>\n",
       " <td>\n",
       "   🌟🌟🌟🌟\n",
       " </td>\n",
       " </tr>\n",
       " </table>\n",
       " </td>\n",
       " </tr>\n",
       " </table>,\n",
       " '\\n',\n",
       " <hr/>,\n",
       " '\\n',\n",
       " <a href=\"contact.html\">contact</a>,\n",
       " '\\n',\n",
       " <hr/>,\n",
       " '\\n']"
      ]
     },
     "execution_count": 14,
     "metadata": {},
     "output_type": "execute_result"
    }
   ],
   "source": [
    "#to see body children\n",
    "body=list(html.children)[3]\n",
    "list(body.children)"
   ]
  },
  {
   "cell_type": "code",
   "execution_count": 25,
   "id": "09753236",
   "metadata": {},
   "outputs": [
    {
     "data": {
      "text/plain": [
       "'\\nreading novels\\nwatching drama\\nlistining poetry\\nVoice Over (one of those)  \\xa0\\n'"
      ]
     },
     "execution_count": 25,
     "metadata": {},
     "output_type": "execute_result"
    }
   ],
   "source": [
    "t=list(body.children)[13]\n",
    "t.text\n"
   ]
  },
  {
   "cell_type": "code",
   "execution_count": 26,
   "id": "43649c2a",
   "metadata": {},
   "outputs": [
    {
     "data": {
      "text/plain": [
       "<bound method Tag.get_text of <ol>\n",
       "<li value=\"1\">reading novels</li>\n",
       "<li>watching drama</li>\n",
       "<li>listining poetry</li>\n",
       "<li>Voice Over<br/><br/> (one of those) <br/>  <video controls=\"\" width=\"100px\"><source src=\"my-video.mp4\"/></video></li>\n",
       "</ol>>"
      ]
     },
     "execution_count": 26,
     "metadata": {},
     "output_type": "execute_result"
    }
   ],
   "source": [
    "t.get_text"
   ]
  },
  {
   "cell_type": "code",
   "execution_count": 27,
   "id": "c6ed7f36",
   "metadata": {},
   "outputs": [
    {
     "data": {
      "text/plain": [
       "'\\nreading novels\\nwatching drama\\nlistining poetry\\nVoice Over (one of those)  \\xa0\\n'"
      ]
     },
     "execution_count": 27,
     "metadata": {},
     "output_type": "execute_result"
    }
   ],
   "source": [
    "t.get_text()"
   ]
  },
  {
   "cell_type": "code",
   "execution_count": 28,
   "id": "73a4a98e",
   "metadata": {},
   "outputs": [
    {
     "name": "stdout",
     "output_type": "stream",
     "text": [
      "\n",
      "reading novels\n",
      "watching drama\n",
      "listining poetry\n",
      "Voice Over (one of those)   \n",
      "\n"
     ]
    }
   ],
   "source": [
    "print(t.text)"
   ]
  },
  {
   "cell_type": "code",
   "execution_count": 29,
   "id": "92d58c56",
   "metadata": {},
   "outputs": [
    {
     "name": "stdout",
     "output_type": "stream",
     "text": [
      "<bound method Tag.get_text of <ol>\n",
      "<li value=\"1\">reading novels</li>\n",
      "<li>watching drama</li>\n",
      "<li>listining poetry</li>\n",
      "<li>Voice Over<br/><br/> (one of those) <br/>  <video controls=\"\" width=\"100px\"><source src=\"my-video.mp4\"/></video></li>\n",
      "</ol>>\n"
     ]
    }
   ],
   "source": [
    "print(t.get_text)"
   ]
  },
  {
   "cell_type": "code",
   "execution_count": 30,
   "id": "609bf385",
   "metadata": {},
   "outputs": [
    {
     "name": "stdout",
     "output_type": "stream",
     "text": [
      "\n",
      "reading novels\n",
      "watching drama\n",
      "listining poetry\n",
      "Voice Over (one of those)   \n",
      "\n"
     ]
    }
   ],
   "source": [
    "print(t.get_text())"
   ]
  },
  {
   "cell_type": "code",
   "execution_count": 37,
   "id": "a6659500",
   "metadata": {},
   "outputs": [
    {
     "name": "stdout",
     "output_type": "stream",
     "text": [
      "[<p>\n",
      "<em>undergraduate student at  <strong><a href=\"https://www.neduet.edu.pk/\">NEDUET</a></strong>.</em></p>, <p>I am student and love to spend my time in reading and writng.</p>]\n"
     ]
    }
   ],
   "source": [
    "#to find all p_tag (any specif tag) in whole page\n",
    "p=sop.find_all('p')\n",
    "print(p)"
   ]
  },
  {
   "cell_type": "code",
   "execution_count": 38,
   "id": "f7828df8",
   "metadata": {},
   "outputs": [
    {
     "data": {
      "text/plain": [
       "<h3>Education</h3>"
      ]
     },
     "execution_count": 38,
     "metadata": {},
     "output_type": "execute_result"
    }
   ],
   "source": [
    "h3=sop.find('h3')\n",
    "h3"
   ]
  },
  {
   "cell_type": "code",
   "execution_count": 39,
   "id": "78e25639",
   "metadata": {},
   "outputs": [
    {
     "data": {
      "text/plain": [
       "[<h3>Education</h3>,\n",
       " <h3>Hobbies</h3>,\n",
       " <h3>EDUCATION DETAIL</h3>,\n",
       " <h3>SKILLS</h3>]"
      ]
     },
     "execution_count": 39,
     "metadata": {},
     "output_type": "execute_result"
    }
   ],
   "source": [
    "h3=sop.find_all('h3')\n",
    "h3"
   ]
  },
  {
   "cell_type": "code",
   "execution_count": 42,
   "id": "bd54ae8a",
   "metadata": {},
   "outputs": [
    {
     "data": {
      "text/plain": [
       "{'h1': [<h1>Afifa Dar</h1>],\n",
       " 'h2': [],\n",
       " 'h3': [<h3>Education</h3>,\n",
       "  <h3>Hobbies</h3>,\n",
       "  <h3>EDUCATION DETAIL</h3>,\n",
       "  <h3>SKILLS</h3>],\n",
       " 'h4': [],\n",
       " 'h5': [],\n",
       " 'h6': []}"
      ]
     },
     "execution_count": 42,
     "metadata": {},
     "output_type": "execute_result"
    }
   ],
   "source": [
    "#find all lavels headings\n",
    "d={}\n",
    "for i in range(1,7):\n",
    "    d['h'+str(i)]=sop.find_all('h'+str(i))\n",
    "    \n",
    "d"
   ]
  },
  {
   "cell_type": "code",
   "execution_count": null,
   "id": "9f8cc2b5",
   "metadata": {},
   "outputs": [],
   "source": [
    "#find_all ()  argument me ids and class bh deskte to get items from them ..\n",
    "#just like find() we have select() knon as css selector \n",
    "# sop.select(div p)  yani whole div se jtne p tags h sb lao\n",
    "#sop.select(p.first item)  first item (class in a div)  usse p tags lao"
   ]
  }
 ],
 "metadata": {
  "kernelspec": {
   "display_name": "Python 3",
   "language": "python",
   "name": "python3"
  },
  "language_info": {
   "codemirror_mode": {
    "name": "ipython",
    "version": 3
   },
   "file_extension": ".py",
   "mimetype": "text/x-python",
   "name": "python",
   "nbconvert_exporter": "python",
   "pygments_lexer": "ipython3",
   "version": "3.8.8"
  }
 },
 "nbformat": 4,
 "nbformat_minor": 5
}
